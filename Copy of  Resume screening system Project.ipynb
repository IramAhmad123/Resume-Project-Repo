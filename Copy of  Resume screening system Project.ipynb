{
 "cells": [
  {
   "cell_type": "code",
   "execution_count": null,
   "metadata": {
    "colab": {
     "base_uri": "https://localhost:8080/"
    },
    "executionInfo": {
     "elapsed": 4811,
     "status": "ok",
     "timestamp": 1750141084717,
     "user": {
      "displayName": "Iram Shehzadi",
      "userId": "07739177580758966238"
     },
     "user_tz": 420
    },
    "id": "8elEuPkrANSV",
    "outputId": "567ed03c-0024-46bc-e09f-3a5ee5b939df"
   },
   "outputs": [],
   "source": [
    "from google.colab import drive\n",
    "drive.mount('/content/drive')"
   ]
  },
  {
   "cell_type": "code",
   "execution_count": null,
   "metadata": {
    "colab": {
     "base_uri": "https://localhost:8080/"
    },
    "executionInfo": {
     "elapsed": 8764,
     "status": "ok",
     "timestamp": 1750139100091,
     "user": {
      "displayName": "Iram Shehzadi",
      "userId": "07739177580758966238"
     },
     "user_tz": 420
    },
    "id": "Mtr0BsWRt6eJ",
    "outputId": "f872c429-8691-484d-9aea-a1ae502da79a"
   },
   "outputs": [],
   "source": [
    "!pip install PyPDF2"
   ]
  },
  {
   "cell_type": "code",
   "execution_count": null,
   "metadata": {
    "colab": {
     "base_uri": "https://localhost:8080/"
    },
    "executionInfo": {
     "elapsed": 6561,
     "status": "ok",
     "timestamp": 1750139106680,
     "user": {
      "displayName": "Iram Shehzadi",
      "userId": "07739177580758966238"
     },
     "user_tz": 420
    },
    "id": "Rr3v2YyJuQjv",
    "outputId": "80a16d8d-e83a-4a10-9f45-3ec9d990c5d6"
   },
   "outputs": [],
   "source": [
    "!pip install pdfplumber"
   ]
  },
  {
   "cell_type": "code",
   "execution_count": null,
   "metadata": {
    "id": "vjlS5SkJuYG4"
   },
   "outputs": [],
   "source": [
    "import os\n",
    "import re\n",
    "import pdfplumber\n",
    "import pandas as pd\n",
    "import numpy as np"
   ]
  },
  {
   "cell_type": "code",
   "execution_count": null,
   "metadata": {
    "id": "dXNYV9cVvQcx"
   },
   "outputs": [],
   "source": [
    "def extract_information(pdf_path):\n",
    "    with pdfplumber.open(pdf_path) as pdf:\n",
    "        resume_text = \"\"\n",
    "        for page in pdf.pages:\n",
    "            resume_text = \" \".join([resume_text, page.extract_text()])\n",
    "    resume_text = resume_text.strip()\n",
    "    return resume_text"
   ]
  },
  {
   "cell_type": "code",
   "execution_count": null,
   "metadata": {
    "id": "_vyKvitHvYXT"
   },
   "outputs": [],
   "source": [
    "def extract_details(resume_text):\n",
    "    # Define regular expressions to extract Skills & Education\n",
    "    skills_pattern = r'Skills\\n([\\s\\S]*?)(?=\\n[A-Z]|$)'\n",
    "    education_pattern = r'Education\\n([\\s\\S]*?)(?=\\n[A-Z][a-z]*\\n|$)'\n",
    "\n",
    "    # Get Skills & Education\n",
    "    skills_match = re.findall(skills_pattern, resume_text, re.DOTALL)\n",
    "    education_match = re.findall(education_pattern, resume_text, re.DOTALL)\n",
    "\n",
    "    # Skills & Education\n",
    "    if len(skills_match)!=0:\n",
    "        skills = skills_match[0]\n",
    "    else:\n",
    "        skills_pattern = r'skills\\n((?:.*)*)'\n",
    "        skills_match = re.findall(skills_pattern, resume_text, re.DOTALL)\n",
    "        if len(skills_match)!=0:\n",
    "            skills = skills_match[0]\n",
    "        else:\n",
    "            skills = None\n",
    "\n",
    "    if len(education_match)!=0:\n",
    "        education = education_match[0]\n",
    "    else:\n",
    "        education = None\n",
    "\n",
    "    return {\n",
    "        'Skills': skills,\n",
    "        'Education': education\n",
    "    }"
   ]
  },
  {
   "cell_type": "code",
   "execution_count": null,
   "metadata": {
    "colab": {
     "base_uri": "https://localhost:8080/"
    },
    "executionInfo": {
     "elapsed": 33346,
     "status": "ok",
     "timestamp": 1750141078918,
     "user": {
      "displayName": "Iram Shehzadi",
      "userId": "07739177580758966238"
     },
     "user_tz": 420
    },
    "id": "PF5fT7gjv44l",
    "outputId": "669a035e-39b9-4714-e17f-8f531972effb"
   },
   "outputs": [],
   "source": [
    "data_folder = '/content/drive/MyDrive/dataset/Resume/data/data'\n",
    "resume_data = []\n",
    "\n",
    "# Iterate through sub-folders and PDF files\n",
    "for category_folder in os.listdir(data_folder):\n",
    "    category_path = os.path.join(data_folder, category_folder)\n",
    "    if os.path.isdir(category_path):\n",
    "        for pdf_file in os.listdir(category_path):\n",
    "            if pdf_file.endswith('.pdf'):\n",
    "                pdf_path = os.path.join(category_path, pdf_file)\n",
    "                # print(pdf_path)\n",
    "                text = extract_information(pdf_path)\n",
    "                details = extract_details(text)\n",
    "\n",
    "                # Adding Category & ID\n",
    "                details['ID'] = pdf_file.replace('.pdf', '')\n",
    "                details['Category'] = category_folder\n",
    "\n",
    "                # print(f'File: [{pdf_path}]')\n",
    "                # print(details, end='\\n\\n')\n",
    "                resume_data.append(details)\n",
    "\n",
    "print('PDF Extraction Done!')"
   ]
  },
  {
   "cell_type": "code",
   "execution_count": null,
   "metadata": {
    "executionInfo": {
     "elapsed": 34,
     "status": "ok",
     "timestamp": 1750141100088,
     "user": {
      "displayName": "Iram Shehzadi",
      "userId": "07739177580758966238"
     },
     "user_tz": 420
    },
    "id": "ijrNoNI8YXHq"
   },
   "outputs": [],
   "source": [
    "resume_df = pd.DataFrame(resume_data)\n",
    "resume_df.to_csv('./pdf_extracted_skills_education.csv', index=False)"
   ]
  },
  {
   "cell_type": "code",
   "execution_count": null,
   "metadata": {
    "colab": {
     "base_uri": "https://localhost:8080/"
    },
    "executionInfo": {
     "elapsed": 11,
     "status": "ok",
     "timestamp": 1750141103615,
     "user": {
      "displayName": "Iram Shehzadi",
      "userId": "07739177580758966238"
     },
     "user_tz": 420
    },
    "id": "On04kmukYZh6",
    "outputId": "b03d93c6-8b11-443f-cff4-a6c9b2482899"
   },
   "outputs": [],
   "source": [
    "resume_df.shape"
   ]
  },
  {
   "cell_type": "code",
   "execution_count": null,
   "metadata": {
    "colab": {
     "base_uri": "https://localhost:8080/",
     "height": 211
    },
    "executionInfo": {
     "elapsed": 9,
     "status": "ok",
     "timestamp": 1750141106335,
     "user": {
      "displayName": "Iram Shehzadi",
      "userId": "07739177580758966238"
     },
     "user_tz": 420
    },
    "id": "fEMmYc5CYnqL",
    "outputId": "8224a8ac-ce6c-445e-fa41-2b8a7ba19af5"
   },
   "outputs": [],
   "source": [
    "resume_df.isna().sum()"
   ]
  },
  {
   "cell_type": "code",
   "execution_count": null,
   "metadata": {
    "colab": {
     "base_uri": "https://localhost:8080/"
    },
    "executionInfo": {
     "elapsed": 44,
     "status": "ok",
     "timestamp": 1750141109003,
     "user": {
      "displayName": "Iram Shehzadi",
      "userId": "07739177580758966238"
     },
     "user_tz": 420
    },
    "id": "sx79jZqKYzTL",
    "outputId": "070b8bfc-f716-4ed5-99f9-18d921d4b7b2"
   },
   "outputs": [],
   "source": [
    "print(resume_df[(resume_df.Skills.isna() & resume_df.Education.isna())])"
   ]
  },
  {
   "cell_type": "code",
   "execution_count": null,
   "metadata": {
    "colab": {
     "base_uri": "https://localhost:8080/",
     "height": 311
    },
    "executionInfo": {
     "elapsed": 45,
     "status": "ok",
     "timestamp": 1750141111811,
     "user": {
      "displayName": "Iram Shehzadi",
      "userId": "07739177580758966238"
     },
     "user_tz": 420
    },
    "id": "Kge8XCuAY8wy",
    "outputId": "16dd3b21-d036-42f5-d88a-f30bf074258d"
   },
   "outputs": [],
   "source": [
    "print(resume_df[~(resume_df['Skills'].isna() & resume_df['Education'].isna())].shape)\n",
    "\n",
    "cv_df = resume_df[~(resume_df['Skills'].isna() & resume_df['Education'].isna())].reset_index(drop=True)\n",
    "cv_df.head()"
   ]
  },
  {
   "cell_type": "code",
   "execution_count": null,
   "metadata": {
    "colab": {
     "base_uri": "https://localhost:8080/",
     "height": 211
    },
    "executionInfo": {
     "elapsed": 15,
     "status": "ok",
     "timestamp": 1750141115525,
     "user": {
      "displayName": "Iram Shehzadi",
      "userId": "07739177580758966238"
     },
     "user_tz": 420
    },
    "id": "8EG3QLpiZFaH",
    "outputId": "19e21cee-0109-4e63-d4e1-edf2769cdcb4"
   },
   "outputs": [],
   "source": [
    "cv_df.isna().sum()"
   ]
  },
  {
   "cell_type": "code",
   "execution_count": null,
   "metadata": {
    "colab": {
     "base_uri": "https://localhost:8080/",
     "height": 424
    },
    "executionInfo": {
     "elapsed": 292,
     "status": "ok",
     "timestamp": 1750141118501,
     "user": {
      "displayName": "Iram Shehzadi",
      "userId": "07739177580758966238"
     },
     "user_tz": 420
    },
    "id": "5Lb45sp6ZI9X",
    "outputId": "8d93bbc2-c2f3-463f-d571-04e5fa000361"
   },
   "outputs": [],
   "source": [
    "cv_df[cv_df.Skills.isna()]"
   ]
  },
  {
   "cell_type": "code",
   "execution_count": null,
   "metadata": {
    "colab": {
     "base_uri": "https://localhost:8080/",
     "height": 424
    },
    "executionInfo": {
     "elapsed": 14,
     "status": "ok",
     "timestamp": 1750141121827,
     "user": {
      "displayName": "Iram Shehzadi",
      "userId": "07739177580758966238"
     },
     "user_tz": 420
    },
    "id": "Ou3YVfp4ZW93",
    "outputId": "50c7fd66-d039-4581-cef1-79b925753c42"
   },
   "outputs": [],
   "source": [
    "cv_df[cv_df.Education.isna()]"
   ]
  },
  {
   "cell_type": "code",
   "execution_count": null,
   "metadata": {
    "colab": {
     "base_uri": "https://localhost:8080/",
     "height": 869
    },
    "executionInfo": {
     "elapsed": 28,
     "status": "ok",
     "timestamp": 1750141127608,
     "user": {
      "displayName": "Iram Shehzadi",
      "userId": "07739177580758966238"
     },
     "user_tz": 420
    },
    "id": "VziiTwdzZZKd",
    "outputId": "d62ba328-8326-430f-a84e-5c439907c6a1"
   },
   "outputs": [],
   "source": [
    "cv_df.Category.value_counts()"
   ]
  },
  {
   "cell_type": "code",
   "execution_count": null,
   "metadata": {
    "colab": {
     "base_uri": "https://localhost:8080/",
     "height": 676
    },
    "executionInfo": {
     "elapsed": 979,
     "status": "ok",
     "timestamp": 1750141133154,
     "user": {
      "displayName": "Iram Shehzadi",
      "userId": "07739177580758966238"
     },
     "user_tz": 420
    },
    "id": "sERJbGg8Zl2a",
    "outputId": "af153bf0-72d0-4496-da3e-5f673c7981a5"
   },
   "outputs": [],
   "source": [
    "import matplotlib.pyplot as plt\n",
    "plt.figure(figsize=(8,8))\n",
    "\n",
    "cv_df.Category.value_counts().plot(kind='barh')\n",
    "\n",
    "for index, value in enumerate(cv_df.Category.value_counts().values):\n",
    "    plt.text(value, index, str(value))\n",
    "\n",
    "plt.show();"
   ]
  },
  {
   "cell_type": "code",
   "execution_count": null,
   "metadata": {
    "colab": {
     "base_uri": "https://localhost:8080/"
    },
    "executionInfo": {
     "elapsed": 6209,
     "status": "ok",
     "timestamp": 1750141143915,
     "user": {
      "displayName": "Iram Shehzadi",
      "userId": "07739177580758966238"
     },
     "user_tz": 420
    },
    "id": "MwbSrOryZqe9",
    "outputId": "03c5da56-04ba-47d7-d8ff-7cdd844a2a85"
   },
   "outputs": [],
   "source": [
    "!pip install contractions"
   ]
  },
  {
   "cell_type": "code",
   "execution_count": null,
   "metadata": {
    "executionInfo": {
     "elapsed": 1208,
     "status": "ok",
     "timestamp": 1750141145127,
     "user": {
      "displayName": "Iram Shehzadi",
      "userId": "07739177580758966238"
     },
     "user_tz": 420
    },
    "id": "Ms5_7eszZzb0"
   },
   "outputs": [],
   "source": [
    "import numpy as np\n",
    "import pandas as pd\n",
    "\n",
    "import re\n",
    "import string # for text cleaning\n",
    "import contractions  # for expanding short form words\n",
    "from tqdm import tqdm\n",
    "tqdm.pandas(desc=\"Progress Bar\")\n",
    "\n",
    "import seaborn as sns\n",
    "import matplotlib.pyplot as plt\n",
    "\n",
    "import warnings\n",
    "warnings.filterwarnings(\"ignore\")"
   ]
  },
  {
   "cell_type": "code",
   "execution_count": null,
   "metadata": {
    "colab": {
     "base_uri": "https://localhost:8080/",
     "height": 293
    },
    "executionInfo": {
     "elapsed": 9,
     "status": "ok",
     "timestamp": 1750141147915,
     "user": {
      "displayName": "Iram Shehzadi",
      "userId": "07739177580758966238"
     },
     "user_tz": 420
    },
    "id": "ZabtnOQCZ7Va",
    "outputId": "46513e5e-0ec4-4dd8-a56e-e80c6064affe"
   },
   "outputs": [],
   "source": [
    "df = pd.read_csv('/content/pdf_extracted_skills_education.csv')\n",
    "df.head()"
   ]
  },
  {
   "cell_type": "code",
   "execution_count": null,
   "metadata": {
    "colab": {
     "base_uri": "https://localhost:8080/"
    },
    "executionInfo": {
     "elapsed": 45,
     "status": "ok",
     "timestamp": 1750141153409,
     "user": {
      "displayName": "Iram Shehzadi",
      "userId": "07739177580758966238"
     },
     "user_tz": 420
    },
    "id": "agriMSSIaXaE",
    "outputId": "2439a877-22ce-45bc-cded-9a0774a98247"
   },
   "outputs": [],
   "source": [
    "df.shape"
   ]
  },
  {
   "cell_type": "code",
   "execution_count": null,
   "metadata": {
    "colab": {
     "base_uri": "https://localhost:8080/",
     "height": 211
    },
    "executionInfo": {
     "elapsed": 37,
     "status": "ok",
     "timestamp": 1750141154796,
     "user": {
      "displayName": "Iram Shehzadi",
      "userId": "07739177580758966238"
     },
     "user_tz": 420
    },
    "id": "NdV-buSYafgc",
    "outputId": "30fd0d3b-39ca-4671-c168-e866cf707a53"
   },
   "outputs": [],
   "source": [
    "df.isna().sum()"
   ]
  },
  {
   "cell_type": "code",
   "execution_count": null,
   "metadata": {
    "colab": {
     "base_uri": "https://localhost:8080/"
    },
    "executionInfo": {
     "elapsed": 57,
     "status": "ok",
     "timestamp": 1750141158546,
     "user": {
      "displayName": "Iram Shehzadi",
      "userId": "07739177580758966238"
     },
     "user_tz": 420
    },
    "id": "XB9IYGfyahM6",
    "outputId": "727eaa38-cdb1-4ad6-eae7-ec4d5d063b5f"
   },
   "outputs": [],
   "source": [
    "\n",
    "print(df[(df.Skills.isna() & df.Education.isna())])"
   ]
  },
  {
   "cell_type": "code",
   "execution_count": null,
   "metadata": {
    "colab": {
     "base_uri": "https://localhost:8080/",
     "height": 424
    },
    "executionInfo": {
     "elapsed": 29,
     "status": "ok",
     "timestamp": 1750141162210,
     "user": {
      "displayName": "Iram Shehzadi",
      "userId": "07739177580758966238"
     },
     "user_tz": 420
    },
    "id": "juq1jw4_44up",
    "outputId": "5b3bdf8b-2c13-498f-9be9-5fada985a23a"
   },
   "outputs": [],
   "source": [
    "cv_df[cv_df.Education.isna()]"
   ]
  },
  {
   "cell_type": "code",
   "execution_count": null,
   "metadata": {
    "colab": {
     "base_uri": "https://localhost:8080/",
     "height": 869
    },
    "executionInfo": {
     "elapsed": 41,
     "status": "ok",
     "timestamp": 1750141205588,
     "user": {
      "displayName": "Iram Shehzadi",
      "userId": "07739177580758966238"
     },
     "user_tz": 420
    },
    "id": "Xz7rHHyZ5J_F",
    "outputId": "e731f200-e743-4a6b-9765-cecd5881c4fd"
   },
   "outputs": [],
   "source": [
    "cv_df.Category.value_counts()"
   ]
  },
  {
   "cell_type": "code",
   "execution_count": null,
   "metadata": {
    "colab": {
     "base_uri": "https://localhost:8080/",
     "height": 676
    },
    "executionInfo": {
     "elapsed": 1047,
     "status": "ok",
     "timestamp": 1750141212714,
     "user": {
      "displayName": "Iram Shehzadi",
      "userId": "07739177580758966238"
     },
     "user_tz": 420
    },
    "id": "oNGT0ym05RnU",
    "outputId": "25a8ed5e-37ff-490f-95ec-366be970e3f8"
   },
   "outputs": [],
   "source": [
    "plt.figure(figsize=(8,8))\n",
    "\n",
    "cv_df.Category.value_counts().plot(kind='barh')\n",
    "\n",
    "for index, value in enumerate(cv_df.Category.value_counts().values):\n",
    "    plt.text(value, index, str(value))\n",
    "\n",
    "plt.show();"
   ]
  },
  {
   "cell_type": "code",
   "execution_count": null,
   "metadata": {
    "executionInfo": {
     "elapsed": 23,
     "status": "ok",
     "timestamp": 1750141217882,
     "user": {
      "displayName": "Iram Shehzadi",
      "userId": "07739177580758966238"
     },
     "user_tz": 420
    },
    "id": "e19zeWph4gDs"
   },
   "outputs": [],
   "source": [
    "def text_cleaning(text:str) -> str:\n",
    "    if pd.isnull(text):\n",
    "        return\n",
    "\n",
    "    # lower-case everything\n",
    "    text = text.lower().strip()\n",
    "\n",
    "    # For removing puctuations\n",
    "    translator = str.maketrans('', '', string.punctuation)\n",
    "\n",
    "    # expand all the short-form words\n",
    "    text = contractions.fix(text)\n",
    "\n",
    "    # remove any special chars\n",
    "    text = re.sub(r'http\\S+|www\\S+|https\\S+', '', text) # Remove URLs\n",
    "    text = re.sub(r'\\S+@\\S+', '', text) # Remove emails\n",
    "    text = re.sub(r'\\b\\d{1,3}[-./]?\\d{1,3}[-./]?\\d{1,4}\\b', '', text) # Remove phone numbers\n",
    "    text = text.translate(translator) # Remove puctuations\n",
    "    text = re.sub(r'[^a-zA-Z]', ' ', text) # Remove other non-alphanumeric characters\n",
    "\n",
    "    return text.strip()"
   ]
  },
  {
   "cell_type": "code",
   "execution_count": null,
   "metadata": {
    "colab": {
     "base_uri": "https://localhost:8080/"
    },
    "executionInfo": {
     "elapsed": 683,
     "status": "ok",
     "timestamp": 1750141350149,
     "user": {
      "displayName": "Iram Shehzadi",
      "userId": "07739177580758966238"
     },
     "user_tz": 420
    },
    "id": "KfixARhka2SA",
    "outputId": "12f31a57-a55d-4a1b-c68d-abd6525797be"
   },
   "outputs": [],
   "source": [
    "resume_df = cv_df.copy()\n",
    "\n",
    "# Filling the null values in Skills & Education with Empty String before concatinating them\n",
    "resume_df = resume_df.fillna(value='')\n",
    "\n",
    "resume_df['CV'] = resume_df['Skills'] + ' ' + resume_df['Education']\n",
    "resume_df['CV'] = resume_df['CV'].progress_apply(text_cleaning)"
   ]
  },
  {
   "cell_type": "code",
   "execution_count": null,
   "metadata": {
    "colab": {
     "base_uri": "https://localhost:8080/",
     "height": 293
    },
    "executionInfo": {
     "elapsed": 50,
     "status": "ok",
     "timestamp": 1750141352664,
     "user": {
      "displayName": "Iram Shehzadi",
      "userId": "07739177580758966238"
     },
     "user_tz": 420
    },
    "id": "wRaNR_735ave",
    "outputId": "d452330e-458b-4f31-fb3d-d3b365caf9c8"
   },
   "outputs": [],
   "source": [
    "resume_df.head()"
   ]
  },
  {
   "cell_type": "code",
   "execution_count": null,
   "metadata": {
    "colab": {
     "base_uri": "https://localhost:8080/",
     "height": 802
    },
    "executionInfo": {
     "elapsed": 462,
     "status": "ok",
     "timestamp": 1750141356481,
     "user": {
      "displayName": "Iram Shehzadi",
      "userId": "07739177580758966238"
     },
     "user_tz": 420
    },
    "id": "HTuS_VJ75dI6",
    "outputId": "dec935bf-4d81-4c2e-8bee-a2967087a477"
   },
   "outputs": [],
   "source": [
    "category_stats = []\n",
    "\n",
    "for category in resume_df['Category'].unique():\n",
    "    category_wise_cv = resume_df[resume_df['Category'] == category]['CV']\n",
    "    stats = category_wise_cv.str.split().str.len().describe(percentiles=[0.05, 0.5, 0.8, 0.9, 0.95])\n",
    "    category_stats.append({'Category': category, **stats.to_dict()})\n",
    "\n",
    "stats_df = pd.DataFrame(category_stats)\n",
    "\n",
    "# Display the resulting DataFrame\n",
    "stats_df"
   ]
  },
  {
   "cell_type": "code",
   "execution_count": null,
   "metadata": {
    "colab": {
     "base_uri": "https://localhost:8080/",
     "height": 699
    },
    "executionInfo": {
     "elapsed": 1570,
     "status": "ok",
     "timestamp": 1750141375695,
     "user": {
      "displayName": "Iram Shehzadi",
      "userId": "07739177580758966238"
     },
     "user_tz": 420
    },
    "id": "J3SSu3iO5jrn",
    "outputId": "a9dbc85f-c6a2-49b0-fb8e-fe4e4bacaeb9"
   },
   "outputs": [],
   "source": [
    "# Create a box plot to visualize the distribution of string lengths for each category\n",
    "plt.figure(figsize=(12, 6))\n",
    "sns.boxplot(data=stats_df, x='Category', y='mean', palette='viridis')\n",
    "\n",
    "# Annotate the bars with actual values\n",
    "for index, row in stats_df.iterrows():\n",
    "    plt.text(index, row['mean'], f'{round(row[\"mean\"])}', ha='center', va='bottom', fontsize=10)\n",
    "\n",
    "plt.title('Distribution of Mean Word Length in CVs by Category')\n",
    "plt.xticks(rotation=80)\n",
    "plt.xlabel('Category')\n",
    "plt.ylabel('Mean String Length')\n",
    "plt.show();"
   ]
  },
  {
   "cell_type": "code",
   "execution_count": null,
   "metadata": {
    "colab": {
     "base_uri": "https://localhost:8080/",
     "height": 483
    },
    "executionInfo": {
     "elapsed": 3082,
     "status": "ok",
     "timestamp": 1750141385009,
     "user": {
      "displayName": "Iram Shehzadi",
      "userId": "07739177580758966238"
     },
     "user_tz": 420
    },
    "id": "rTw1-4Pn5wqO",
    "outputId": "9aab9715-78f4-45f9-bbb3-d97b5b7e1283"
   },
   "outputs": [],
   "source": [
    "# Reshape the DataFrame to long format for easier plotting\n",
    "stats_df_long = pd.melt(stats_df, id_vars=['Category'], value_vars=['5%', '80%', '90%'])\n",
    "\n",
    "# Create a bar plot to compare percentiles of word length for each category\n",
    "plt.figure(figsize=(18, 6))\n",
    "sns.barplot(data=stats_df_long, x='Category', y='value', hue='variable', palette='viridis')\n",
    "\n",
    "plt.title('Comparison of Percentiles of Word Length in CVs by Category')\n",
    "plt.xticks(rotation=80)\n",
    "plt.xlabel('Category')\n",
    "plt.ylabel('Word Length Percentiles')\n",
    "plt.legend(title='Percentile')\n",
    "plt.show();"
   ]
  },
  {
   "cell_type": "code",
   "execution_count": null,
   "metadata": {
    "colab": {
     "base_uri": "https://localhost:8080/",
     "height": 1000
    },
    "executionInfo": {
     "elapsed": 3181,
     "status": "ok",
     "timestamp": 1750141392196,
     "user": {
      "displayName": "Iram Shehzadi",
      "userId": "07739177580758966238"
     },
     "user_tz": 420
    },
    "id": "J8NoMDzt5y1i",
    "outputId": "8368b6bc-d9b9-47ec-b2be-ca041a076aee"
   },
   "outputs": [],
   "source": [
    "# Create a 5x1 subplot\n",
    "fig, axes = plt.subplots(5, 1, figsize=(12, 18), sharex=True)\n",
    "\n",
    "percentiles = ['5%', '50%', '80%', '90%', '95%']\n",
    "colors = ['blue', 'green', 'orange', 'red', 'purple']\n",
    "\n",
    "for i, percentile in enumerate(percentiles):\n",
    "    # Create a bar plot for each percentile\n",
    "    sns.barplot(data=stats_df, x='Category', y=percentile, color=colors[i], ax=axes[i])\n",
    "\n",
    "    # Annotate the bars with actual values\n",
    "    for index, row in stats_df.iterrows():\n",
    "        value = row[percentile]\n",
    "        axes[i].text(index, value, f'{round(value)}', ha='center', va='bottom', fontsize=10)\n",
    "\n",
    "    axes[i].set_title(f'{percentile} Percentile')\n",
    "    axes[i].set_ylabel('Word Length')\n",
    "\n",
    "# Set the common x-axis label and rotate x-axis ticks\n",
    "plt.xlabel('Category')\n",
    "plt.xticks(rotation=80)\n",
    "plt.suptitle('Comparison of Percentiles of Word Length in CVs by Category')\n",
    "\n",
    "# Adjust spacing between subplots\n",
    "plt.tight_layout(pad=2.0)\n",
    "\n",
    "# Show the plots\n",
    "plt.show();"
   ]
  },
  {
   "cell_type": "code",
   "execution_count": null,
   "metadata": {
    "colab": {
     "base_uri": "https://localhost:8080/"
    },
    "executionInfo": {
     "elapsed": 5879,
     "status": "ok",
     "timestamp": 1750141421604,
     "user": {
      "displayName": "Iram Shehzadi",
      "userId": "07739177580758966238"
     },
     "user_tz": 420
    },
    "id": "d5RAn2RO58vQ",
    "outputId": "93dae8f7-a8c2-4bb9-a58b-0d2368a83564"
   },
   "outputs": [],
   "source": [
    "!pip install datasets"
   ]
  },
  {
   "cell_type": "code",
   "execution_count": null,
   "metadata": {
    "colab": {
     "base_uri": "https://localhost:8080/",
     "height": 166
    },
    "executionInfo": {
     "elapsed": 297,
     "status": "error",
     "timestamp": 1750141421904,
     "user": {
      "displayName": "Iram Shehzadi",
      "userId": "07739177580758966238"
     },
     "user_tz": 420
    },
    "id": "c6exKc_AXDTw",
    "outputId": "2bc4aa36-c9ee-4b70-b6a9-328bdbe4ed73"
   },
   "outputs": [],
   "source": [
    "jd_df = pd.DataFrame(jd_data)\n",
    "jd_df.head()"
   ]
  },
  {
   "cell_type": "code",
   "execution_count": null,
   "metadata": {
    "colab": {
     "base_uri": "https://localhost:8080/"
    },
    "executionInfo": {
     "elapsed": 6362,
     "status": "ok",
     "timestamp": 1749920491246,
     "user": {
      "displayName": "Iram Shehzadi",
      "userId": "07739177580758966238"
     },
     "user_tz": 420
    },
    "id": "DqY89EqaYBe9",
    "outputId": "331521b8-f298-425e-8ee6-532c64564bee"
   },
   "outputs": [],
   "source": [
    "!pip install contractions\n",
    "import contractions\n",
    "import string\n",
    "from tqdm.notebook import tqdm\n",
    "tqdm.pandas()  # This line enables the progress bar on apply\n"
   ]
  },
  {
   "cell_type": "code",
   "execution_count": null,
   "metadata": {
    "colab": {
     "base_uri": "https://localhost:8080/"
    },
    "executionInfo": {
     "elapsed": 459,
     "status": "ok",
     "timestamp": 1750141732506,
     "user": {
      "displayName": "Iram Shehzadi",
      "userId": "07739177580758966238"
     },
     "user_tz": 420
    },
    "id": "1mP7Ji1-FIoX",
    "outputId": "be980a68-bba0-472b-970e-f605547d1132"
   },
   "outputs": [],
   "source": [
    "import pandas as pd\n",
    "\n",
    "url = \"https://huggingface.co/datasets/jacob-hugging-face/job-descriptions/resolve/main/training_data.csv\"\n",
    "jd_df = pd.read_csv(url)\n",
    "\n",
    "print(jd_df.head())\n"
   ]
  },
  {
   "cell_type": "code",
   "execution_count": null,
   "metadata": {
    "colab": {
     "base_uri": "https://localhost:8080/"
    },
    "executionInfo": {
     "elapsed": 561,
     "status": "ok",
     "timestamp": 1750141655870,
     "user": {
      "displayName": "Iram Shehzadi",
      "userId": "07739177580758966238"
     },
     "user_tz": 420
    },
    "id": "P0b9AAA-kfyi",
    "outputId": "105e96d6-13ec-4505-9a75-d6dd5eb478f7"
   },
   "outputs": [],
   "source": [
    "jd_df['job_description'] = jd_df['job_description'].progress_apply(text_cleaning)"
   ]
  },
  {
   "cell_type": "code",
   "execution_count": null,
   "metadata": {
    "colab": {
     "base_uri": "https://localhost:8080/"
    },
    "executionInfo": {
     "elapsed": 9,
     "status": "ok",
     "timestamp": 1750141658565,
     "user": {
      "displayName": "Iram Shehzadi",
      "userId": "07739177580758966238"
     },
     "user_tz": 420
    },
    "id": "I7ImWHuBkkrc",
    "outputId": "23e9051e-a0c4-40f6-ea7d-5c672a8e723f"
   },
   "outputs": [],
   "source": [
    "# A lot of position_title are present\n",
    "jd_df.position_title.unique()\n",
    "\n",
    "len(jd_df.position_title.unique())"
   ]
  },
  {
   "cell_type": "code",
   "execution_count": null,
   "metadata": {
    "colab": {
     "base_uri": "https://localhost:8080/"
    },
    "executionInfo": {
     "elapsed": 33,
     "status": "ok",
     "timestamp": 1750141662515,
     "user": {
      "displayName": "Iram Shehzadi",
      "userId": "07739177580758966238"
     },
     "user_tz": 420
    },
    "id": "fcojF5DPF4bY",
    "outputId": "5be478be-1681-4829-c82f-91ebfe2a6dcb"
   },
   "outputs": [],
   "source": [
    "# A lot of companies\n",
    "jd_df.company_name.unique()\n",
    "\n",
    "len(jd_df.company_name.unique())"
   ]
  },
  {
   "cell_type": "code",
   "execution_count": null,
   "metadata": {
    "colab": {
     "base_uri": "https://localhost:8080/",
     "height": 771
    },
    "executionInfo": {
     "elapsed": 100,
     "status": "ok",
     "timestamp": 1750141482960,
     "user": {
      "displayName": "Iram Shehzadi",
      "userId": "07739177580758966238"
     },
     "user_tz": 420
    },
    "id": "sXUW84cmGdJn",
    "outputId": "9b2c0af6-2569-43ea-8325-a3dcea6bb5a2"
   },
   "outputs": [],
   "source": [
    "url = \"https://huggingface.co/datasets/jacob-hugging-face/job-descriptions/resolve/main/training_data.csv\"\n",
    "jd_df"
   ]
  },
  {
   "cell_type": "code",
   "execution_count": null,
   "metadata": {
    "colab": {
     "base_uri": "https://localhost:8080/",
     "height": 310
    },
    "executionInfo": {
     "elapsed": 94,
     "status": "ok",
     "timestamp": 1750141502209,
     "user": {
      "displayName": "Iram Shehzadi",
      "userId": "07739177580758966238"
     },
     "user_tz": 420
    },
    "id": "eEFiCHb7HQIB",
    "outputId": "53e64a84-7c5e-4c21-8e05-5d01bdbd078b"
   },
   "outputs": [],
   "source": [
    "jd_df = pd.DataFrame(jd_df)\n",
    "jd_df.head()"
   ]
  },
  {
   "cell_type": "code",
   "execution_count": null,
   "metadata": {
    "colab": {
     "base_uri": "https://localhost:8080/"
    },
    "executionInfo": {
     "elapsed": 33,
     "status": "ok",
     "timestamp": 1750141740693,
     "user": {
      "displayName": "Iram Shehzadi",
      "userId": "07739177580758966238"
     },
     "user_tz": 420
    },
    "id": "z4aEWpJxHdq9",
    "outputId": "e13d8df8-90bb-479b-a768-90ca72d295b7"
   },
   "outputs": [],
   "source": [
    "# Sample JD\n",
    "\n",
    "# jd_df['model_response'][0]\n",
    "print(jd_df['job_description'][0])"
   ]
  },
  {
   "cell_type": "code",
   "execution_count": null,
   "metadata": {
    "executionInfo": {
     "elapsed": 4,
     "status": "ok",
     "timestamp": 1750141756929,
     "user": {
      "displayName": "Iram Shehzadi",
      "userId": "07739177580758966238"
     },
     "user_tz": 420
    },
    "id": "rEkb4bvSHfUD"
   },
   "outputs": [],
   "source": [
    "def text_cleaning(text:str) -> str:\n",
    "    if pd.isnull(text):\n",
    "        return\n",
    "\n",
    "    # lower-case everything\n",
    "    text = text.lower().strip()\n",
    "\n",
    "    # For removing puctuations\n",
    "    translator = str.maketrans('', '', string.punctuation)\n",
    "\n",
    "    # expand all the short-form words\n",
    "    text = contractions.fix(text)\n",
    "\n",
    "    # remove any special chars\n",
    "    text = re.sub(r'http\\S+|www\\S+|https\\S+', '', text) # Remove URLs\n",
    "    text = re.sub(r'\\S+@\\S+', '', text) # Remove emails\n",
    "    text = re.sub(r'\\b\\d{1,3}[-./]?\\d{1,3}[-./]?\\d{1,4}\\b', '', text) # Remove phone numbers\n",
    "    text = text.translate(translator) # Remove puctuations\n",
    "    text = re.sub(r'[^a-zA-Z]', ' ', text) # Remove other non-alphanumeric characters\n",
    "\n",
    "    return text.strip()"
   ]
  },
  {
   "cell_type": "code",
   "execution_count": null,
   "metadata": {
    "colab": {
     "base_uri": "https://localhost:8080/"
    },
    "executionInfo": {
     "elapsed": 382,
     "status": "ok",
     "timestamp": 1750141763583,
     "user": {
      "displayName": "Iram Shehzadi",
      "userId": "07739177580758966238"
     },
     "user_tz": 420
    },
    "id": "66IfFsAYHpt8",
    "outputId": "fa8ca03c-a9e7-47df-e125-255da44278b9"
   },
   "outputs": [],
   "source": [
    "# We have 15 Resumes where Skills & Education were not extracted\n",
    "# So, let's remove them\n",
    "cv_df = df[~(df['Skills'].isna() & df['Education'].isna())].reset_index(drop=True)\n",
    "\n",
    "# Filling the null values in Skills & Education with Empty String before concatinating them\n",
    "cv_df = cv_df.fillna(value='')\n",
    "\n",
    "# Let's stitch together Skills & Education, similar to given in job description.\n",
    "cv_df['CV'] = cv_df['Skills'] + ' ' + cv_df['Education']\n",
    "\n",
    "# Doing text cleaning\n",
    "cv_df['CV'] = cv_df['CV'].progress_apply(text_cleaning)"
   ]
  },
  {
   "cell_type": "code",
   "execution_count": null,
   "metadata": {
    "colab": {
     "base_uri": "https://localhost:8080/"
    },
    "executionInfo": {
     "elapsed": 20,
     "status": "ok",
     "timestamp": 1750141768934,
     "user": {
      "displayName": "Iram Shehzadi",
      "userId": "07739177580758966238"
     },
     "user_tz": 420
    },
    "id": "5mGVBCUbHroQ",
    "outputId": "8571d855-88b0-4091-9a44-611a91b81f59"
   },
   "outputs": [],
   "source": [
    "cv_df.shape"
   ]
  },
  {
   "cell_type": "code",
   "execution_count": null,
   "metadata": {
    "executionInfo": {
     "elapsed": 392,
     "status": "ok",
     "timestamp": 1750141773055,
     "user": {
      "displayName": "Iram Shehzadi",
      "userId": "07739177580758966238"
     },
     "user_tz": 420
    },
    "id": "X-KSzPkvICLl"
   },
   "outputs": [],
   "source": [
    "# Sample job descriptions\n",
    "job_descriptions = jd_df['job_description'].apply(text_cleaning)[:15].to_list() # jd_df['job_description'][:15]\n",
    "\n",
    "# Sample resumes (replace with your extracted resume data)\n",
    "resumes = cv_df['CV'].to_list()"
   ]
  },
  {
   "cell_type": "code",
   "execution_count": null,
   "metadata": {
    "colab": {
     "base_uri": "https://localhost:8080/"
    },
    "executionInfo": {
     "elapsed": 26,
     "status": "ok",
     "timestamp": 1750141776750,
     "user": {
      "displayName": "Iram Shehzadi",
      "userId": "07739177580758966238"
     },
     "user_tz": 420
    },
    "id": "JXc5coD1IID3",
    "outputId": "828cb07f-b1bf-41a9-c7cc-e9a0c300364e"
   },
   "outputs": [],
   "source": [
    "job_descriptions"
   ]
  },
  {
   "cell_type": "code",
   "execution_count": null,
   "metadata": {
    "colab": {
     "base_uri": "https://localhost:8080/",
     "height": 632
    },
    "executionInfo": {
     "elapsed": 351,
     "status": "ok",
     "timestamp": 1750141781855,
     "user": {
      "displayName": "Iram Shehzadi",
      "userId": "07739177580758966238"
     },
     "user_tz": 420
    },
    "id": "0twOJYOSIKnn",
    "outputId": "f83660bf-72c2-4211-b681-fd765082ce72"
   },
   "outputs": [],
   "source": [
    "cv_df"
   ]
  },
  {
   "cell_type": "code",
   "execution_count": null,
   "metadata": {
    "colab": {
     "base_uri": "https://localhost:8080/"
    },
    "executionInfo": {
     "elapsed": 5831,
     "status": "ok",
     "timestamp": 1750141790946,
     "user": {
      "displayName": "Iram Shehzadi",
      "userId": "07739177580758966238"
     },
     "user_tz": 420
    },
    "id": "U8EoMTW5I83W",
    "outputId": "8b16a8c8-049e-4109-d438-048d8959f916"
   },
   "outputs": [],
   "source": [
    "!pip install transformers"
   ]
  },
  {
   "cell_type": "code",
   "execution_count": null,
   "metadata": {
    "executionInfo": {
     "elapsed": 31412,
     "status": "ok",
     "timestamp": 1750141822360,
     "user": {
      "displayName": "Iram Shehzadi",
      "userId": "07739177580758966238"
     },
     "user_tz": 420
    },
    "id": "dEdaLcbWI_f2"
   },
   "outputs": [],
   "source": [
    "import torch\n",
    "from datasets import load_dataset\n",
    "from transformers import DistilBertTokenizer, DistilBertModel\n",
    "from sklearn.metrics.pairwise import cosine_similarity"
   ]
  },
  {
   "cell_type": "code",
   "execution_count": null,
   "metadata": {
    "colab": {
     "base_uri": "https://localhost:8080/",
     "height": 214,
     "referenced_widgets": [
      "11e6a8ed901842cb988b0f3953713063",
      "c42e2355fb6944b2956e201247526893",
      "adb7478f9c78487db520e98b7c8287a5",
      "c6a51c4890344e9db606a4565f04e574",
      "3b98b8b3906d46aa885f138388018e3b",
      "a3e5cdc92f244c22bfa2f3447677386c",
      "3a79211568464269bc6656a1cca5ca1e",
      "cbfd5555ad5e4eecace1c4b54b2166f0",
      "6231c95b98d1434db9cfbe43b4e245cf",
      "4e05f6c44d44437da6510633f092ee5f",
      "69ca8cb7c4db4cfa9fbc8e93fdc68462",
      "d8ae5990ccac426ab1b58973230ef4b4",
      "0ace301160e94eb38dddc60ce96a5d3a",
      "42431f264b76410eb4b1941fb1ceaf4c",
      "18b9fab8b6cd4671bc81da999f7637e2",
      "ad5948381ae34f3fa70a6ef6ecac0168",
      "878c2aacba06475c9f4c99e3d4fc601d",
      "7bdebdd1988043628ea08a3caf004a3f",
      "866240c5d7db4440ace1cf218d738d63",
      "7db38cd79565448995560f8b1a34cfad",
      "0fca24175e664d5ba16d9ed0c1556f6e",
      "0e2e0abed49a4c52acf3dcd01d64955f",
      "368c2cb3e2454c20ae3a8fb0349c4e1c",
      "4f3fe1f130b44a1daf65ee3d1a18ce8f",
      "dca929312e63444586d7d4ef9f8d7b01",
      "ff44c4630e2e45e2bbda2077644c9e31",
      "0b4670e8ac5941d998af3f7e1753e54e",
      "14b28495d0a24a3d8889fcd376d0ce4d",
      "c74b300b975d40f4b6aad781455b09ff",
      "304324c1369f4d3b845d5b88dafc89af",
      "36b99bae2ee14cbf8c4902042622e578",
      "98ebc3002a2c4b3d847d3121ef914e81",
      "e1fb4c33071c4f599ed5fef5932c63e2",
      "4e0c4b8ec4924b48b855cce63e7b81d1",
      "efc420799c484b47a090151955f968ba",
      "9f63ea2034ee4b74ac9eee16a0b57bed",
      "997866cbfee64e649ce305d9533c1581",
      "f196ddf906894ff5bf84f2b8bd490e21",
      "b237eecb10874779bc97650e3d6d9928",
      "adfc28f4f4fc4c049bb6fb0dab5a0758",
      "3c5072f50b8e4ed7b75b2ff5971f7539",
      "5cb7bd3d4f8a42dab7af96398c0aaa2f",
      "614fd46e4941431caec6092c62eb3ddc",
      "3948310d348d4fd3beb6d85ca5c0f82a",
      "617642a49a064dcaa3b18982a96d8138",
      "00fe8f591619446895c5b429259e28b3",
      "b817fd3c62d943c3ae0ab22d1ded1e9f",
      "37312d33486e4eaeaa13bbdebde5a040",
      "21f61ccde41c43ebadbb35ff9aebf87a",
      "d17ccb21face4d2ab6a6e95d863ee702",
      "dfe466b21ebc41729a81851cb9dce8c8",
      "8066e899228949a0a56d9c54388844b1",
      "5211208b26df412397832ba624d2afbf",
      "f56322f1a0d141009117a3c2621e3fa6",
      "32cc2c03b7664dd99f2e876ad63064d3"
     ]
    },
    "executionInfo": {
     "elapsed": 431503,
     "status": "ok",
     "timestamp": 1750142262489,
     "user": {
      "displayName": "Iram Shehzadi",
      "userId": "07739177580758966238"
     },
     "user_tz": 420
    },
    "id": "ysuObDjuJaks",
    "outputId": "dc03a961-9f72-449c-d758-171e170f2dbf"
   },
   "outputs": [],
   "source": [
    "%%time\n",
    "from transformers import DistilBertTokenizer, DistilBertModel\n",
    "import torch\n",
    "\n",
    "\n",
    "# Initialize the DistilBERT tokenizer and model\n",
    "tokenizer = DistilBertTokenizer.from_pretrained('distilbert-base-uncased')\n",
    "model = DistilBertModel.from_pretrained('distilbert-base-uncased')\n",
    "\n",
    "\n",
    "# Tokenize and embed job descriptions\n",
    "job_description_embeddings = []\n",
    "for description in job_descriptions:\n",
    "    tokens = tokenizer(description, padding=True, truncation=True, return_tensors='pt')\n",
    "    with torch.no_grad():\n",
    "        output = model(**tokens)\n",
    "    embeddings = output.last_hidden_state.mean(dim=1).numpy()\n",
    "    job_description_embeddings.append(embeddings[0])  # Flatten the embeddings to 1D\n",
    "\n",
    "# Tokenize and embed resumes\n",
    "resume_embeddings = []\n",
    "for resume in resumes:\n",
    "    tokens = tokenizer(resume, padding=True, truncation=True, return_tensors='pt')\n",
    "    with torch.no_grad():\n",
    "        output = model(**tokens)\n",
    "    embeddings = output.last_hidden_state.mean(dim=1).numpy()\n",
    "    resume_embeddings.append(embeddings[0])  # Flatten the embeddings to 1D"
   ]
  },
  {
   "cell_type": "code",
   "execution_count": null,
   "metadata": {
    "colab": {
     "base_uri": "https://localhost:8080/"
    },
    "executionInfo": {
     "elapsed": 32,
     "status": "ok",
     "timestamp": 1750142279409,
     "user": {
      "displayName": "Iram Shehzadi",
      "userId": "07739177580758966238"
     },
     "user_tz": 420
    },
    "id": "AJpIh0dhPo0Z",
    "outputId": "53cb9bd2-d6d0-4718-8ec3-62cff106ef67"
   },
   "outputs": [],
   "source": [
    "job_description_embeddings[0].shape, resume_embeddings[0].shape"
   ]
  },
  {
   "cell_type": "code",
   "execution_count": null,
   "metadata": {
    "colab": {
     "base_uri": "https://localhost:8080/"
    },
    "executionInfo": {
     "elapsed": 9,
     "status": "ok",
     "timestamp": 1750142283563,
     "user": {
      "displayName": "Iram Shehzadi",
      "userId": "07739177580758966238"
     },
     "user_tz": 420
    },
    "id": "VwmcBfpIw7BP",
    "outputId": "0a385dca-0fc1-4f6b-99dd-c21818d809c5"
   },
   "outputs": [],
   "source": [
    "len(job_description_embeddings), len(resume_embeddings)"
   ]
  },
  {
   "cell_type": "code",
   "execution_count": null,
   "metadata": {
    "colab": {
     "base_uri": "https://localhost:8080/"
    },
    "executionInfo": {
     "elapsed": 36,
     "status": "ok",
     "timestamp": 1750142306440,
     "user": {
      "displayName": "Iram Shehzadi",
      "userId": "07739177580758966238"
     },
     "user_tz": 420
    },
    "id": "vqZcJVmmnDke",
    "outputId": "9f4b82d9-66ea-4dc2-c786-7b20b35776aa"
   },
   "outputs": [],
   "source": [
    "# Calculate cosine similarity between job descriptions and resumes\n",
    "similarity_scores = cosine_similarity(job_description_embeddings, resume_embeddings)\n",
    "similarity_scores"
   ]
  },
  {
   "cell_type": "code",
   "execution_count": null,
   "metadata": {
    "colab": {
     "base_uri": "https://localhost:8080/"
    },
    "executionInfo": {
     "elapsed": 34,
     "status": "ok",
     "timestamp": 1750142332586,
     "user": {
      "displayName": "Iram Shehzadi",
      "userId": "07739177580758966238"
     },
     "user_tz": 420
    },
    "id": "25PYizJunJqM",
    "outputId": "dc6d227e-0530-427a-b032-678b02093205"
   },
   "outputs": [],
   "source": [
    "# Rank candidates for each job description based on similarity scores\n",
    "num_top_candidates = 5\n",
    "top_candidates = []\n",
    "\n",
    "for i, job_description in enumerate(job_descriptions):\n",
    "    candidates_with_scores = list(enumerate(similarity_scores[i]))\n",
    "    candidates_with_scores.sort(key=lambda x: x[1], reverse=True)\n",
    "    top_candidates_for_job = candidates_with_scores[:num_top_candidates]\n",
    "    top_candidates.append(top_candidates_for_job)\n",
    "\n",
    "# Print the top candidates for each job description\n",
    "for i, job_description in enumerate(job_descriptions):\n",
    "    print(f\"Top candidates for JD {i+1} - Postition: {jd_df['position_title'][i]}\")\n",
    "    for candidate_index, score in top_candidates[i]:\n",
    "        print(f\"  Candidate {candidate_index + 1} - Similarity Score: {score:.4f} - {cv_df['Category'][candidate_index]}/{cv_df['ID'][candidate_index]}.pdf\")\n",
    "        # print(f\"  Resume: {resumes[candidate_index]}\")\n",
    "    print()"
   ]
  },
  {
   "cell_type": "code",
   "execution_count": null,
   "metadata": {
    "colab": {
     "base_uri": "https://localhost:8080/"
    },
    "executionInfo": {
     "elapsed": 1000,
     "status": "ok",
     "timestamp": 1750142378013,
     "user": {
      "displayName": "Iram Shehzadi",
      "userId": "07739177580758966238"
     },
     "user_tz": 420
    },
    "id": "Jv-n8LbsnUzD",
    "outputId": "0e557274-dc6a-49cc-d868-23a4249e6d4f"
   },
   "outputs": [],
   "source": [
    "from transformers import DistilBertTokenizer, DistilBertModel\n",
    "\n",
    "# Assuming 'model' is your trained DistilBERT model\n",
    "model.save_pretrained('./DistilBertModel')\n",
    "tokenizer.save_pretrained('./DistilBertTokenizer')"
   ]
  }
 ],
 "metadata": {
  "colab": {
   "authorship_tag": "ABX9TyMKSAMuTM1jj1lB1Zqgc7xm",
   "mount_file_id": "1SeGiaddpo5iwet0oSJQsggEua4TW-O0x",
   "provenance": [
    {
     "file_id": "1SeGiaddpo5iwet0oSJQsggEua4TW-O0x",
     "timestamp": 1750142505345
    },
    {
     "file_id": "1P0V0yR_VPkmrOUUJEk7H7dNEl4cdPfAS",
     "timestamp": 1749892567399
    },
    {
     "file_id": "1i-Hz_PkvSH7CclfSfZguZ_mHXJKtjpET",
     "timestamp": 1749876921763
    }
   ]
  },
  "kernelspec": {
   "display_name": "Python 3",
   "name": "python3"
  },
  "language_info": {
   "name": "python"
  }
 },
 "nbformat": 4,
 "nbformat_minor": 0
}
